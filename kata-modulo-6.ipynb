{
 "cells": [
  {
   "cell_type": "markdown",
   "metadata": {},
   "source": [
    "# Ejercicio1: Crear y usar listas de Python"
   ]
  },
  {
   "cell_type": "code",
   "execution_count": 2,
   "metadata": {},
   "outputs": [
    {
     "name": "stdout",
     "output_type": "stream",
     "text": [
      "El numero de planetas es : 8\n",
      "El numero de planetas es : 9\n",
      "EL ultimo planeta es Pluto\n"
     ]
    }
   ],
   "source": [
    "listaPlanetas=['Mercury','Venus','Earth','Mars','Jupiter','Saturn','Uranus','Neptune']\n",
    "numeroPlanetas = len(listaPlanetas)\n",
    "print('El numero de planetas es : ' + str(numeroPlanetas))\n",
    "listaPlanetas.append('Pluto')\n",
    "numeroPlanetas = len(listaPlanetas)\n",
    "print('El numero de planetas es : ' + str(numeroPlanetas))\n",
    "print(\"EL ultimo planeta es\", listaPlanetas[8])"
   ]
  },
  {
   "cell_type": "markdown",
   "metadata": {},
   "source": [
    "# Ejercicio 2: Trabajando con datos de una lista"
   ]
  },
  {
   "cell_type": "code",
   "execution_count": 6,
   "metadata": {},
   "outputs": [
    {
     "name": "stdout",
     "output_type": "stream",
     "text": [
      "Ingresa el nombre de un planeta, Empieza con una mayuscula\n",
      "Los planetas mas cercanos a Mars son: ['Mercury', 'Venus', 'Earth']\n",
      "Los planetas mas alejados a Mars son: ['Jupiter', 'Saturn', 'Uranus', 'Neptune']\n"
     ]
    }
   ],
   "source": [
    "planetas =['Mercury', 'Venus', 'Earth', 'Mars', 'Jupiter', 'Saturn','Uranus' ,'Neptune']\n",
    "\n",
    "print(\"Ingresa el nombre de un planeta, Empieza con una mayuscula\")\n",
    "planetaIngresado = input()\n",
    "\n",
    "buscarIndexPlanetaIngresado = planetas.index(planetaIngresado)\n",
    "\n",
    "\n",
    "planetasMasCercanosAlSol = planetas[0:buscarIndexPlanetaIngresado]\n",
    "print(\"Los planetas mas cercanos a \" + planetaIngresado + \" son: \" +str(planetasMasCercanosAlSol))\n",
    "\n",
    "\n",
    "planetasMasAlejadosAlSol = planetas[buscarIndexPlanetaIngresado + 1:] \n",
    "print(\"Los planetas mas alejados a \" + planetaIngresado + \" son: \" + str(planetasMasAlejadosAlSol ))\n",
    "\n"
   ]
  }
 ],
 "metadata": {
  "interpreter": {
   "hash": "cfcfbbd76e88e95dc35e2ca9edf0c1e882d0553cc29bc4cac8c0f4eabeb0ecb9"
  },
  "kernelspec": {
   "display_name": "Python 3.10.2 64-bit",
   "language": "python",
   "name": "python3"
  },
  "language_info": {
   "codemirror_mode": {
    "name": "ipython",
    "version": 3
   },
   "file_extension": ".py",
   "mimetype": "text/x-python",
   "name": "python",
   "nbconvert_exporter": "python",
   "pygments_lexer": "ipython3",
   "version": "3.10.2"
  },
  "orig_nbformat": 4
 },
 "nbformat": 4,
 "nbformat_minor": 2
}
