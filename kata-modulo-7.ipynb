{
 "cells": [
  {
   "cell_type": "code",
   "execution_count": 3,
   "metadata": {},
   "outputs": [
    {
     "name": "stdout",
     "output_type": "stream",
     "text": [
      "['Mars', 'Venus']\n",
      "['Mars', 'Venus']\n"
     ]
    }
   ],
   "source": [
    "UserPlanetInput= ''\n",
    "planetsInput=[]\n",
    "\n",
    "while UserPlanetInput.lower() != 'done':\n",
    "    if UserPlanetInput:\n",
    "        planetsInput.append(UserPlanetInput)\n",
    "    UserPlanetInput = input('Enter a new planet or done when you done')\n",
    "\n",
    "for planets in planetsInput:\n",
    "    print(planets)"
   ]
  }
 ],
 "metadata": {
  "interpreter": {
   "hash": "cfcfbbd76e88e95dc35e2ca9edf0c1e882d0553cc29bc4cac8c0f4eabeb0ecb9"
  },
  "kernelspec": {
   "display_name": "Python 3.10.2 64-bit",
   "language": "python",
   "name": "python3"
  },
  "language_info": {
   "codemirror_mode": {
    "name": "ipython",
    "version": 3
   },
   "file_extension": ".py",
   "mimetype": "text/x-python",
   "name": "python",
   "nbconvert_exporter": "python",
   "pygments_lexer": "ipython3",
   "version": "3.10.2"
  },
  "orig_nbformat": 4
 },
 "nbformat": 4,
 "nbformat_minor": 2
}
