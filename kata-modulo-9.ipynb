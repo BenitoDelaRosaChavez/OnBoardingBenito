{
 "cells": [
  {
   "cell_type": "markdown",
   "metadata": {},
   "source": [
    "## Ejercicio 1"
   ]
  },
  {
   "cell_type": "code",
   "execution_count": 15,
   "metadata": {},
   "outputs": [
    {
     "data": {
      "text/plain": [
       "' Reporte de Combustible:\\n    Promedio : 10.0\\n    Tanque 1: 10\\n    Tanque 2: 10\\n    Tanque 3: 10\\n    '"
      ]
     },
     "execution_count": 15,
     "metadata": {},
     "output_type": "execute_result"
    }
   ],
   "source": [
    "def reporteTanquesCombustible(tanque1, tanque2, tanque3): \n",
    "    promedio = (tanque1+tanque2+tanque3) / 3\n",
    "    return f\"\"\" Reporte de Combustible:\n",
    "    Promedio : {promedio}\n",
    "    Tanque 1: {tanque1}\n",
    "    Tanque 2: {tanque2}\n",
    "    Tanque 3: {tanque3}\n",
    "    \"\"\"\n",
    "    \n",
    "    \n",
    "#reporteTanquesCombustible(51,20,16)\n",
    "\n",
    "def promedioCombustible(indicador):\n",
    "    promedio = sum(indicador)\n",
    "    numeroTanques = len(indicador)\n",
    "    return promedio / numeroTanques\n",
    "\n",
    "#promedioCombustible([11,11,11])\n",
    "\n",
    "def reporteTanquesCombustibleActual(tanque1, tanque2, tanque3): \n",
    "    promedio = promedioCombustible([tanque1,tanque2,tanque3])\n",
    "    return f\"\"\" Reporte de Combustible:\n",
    "    Promedio : {promedio}\n",
    "    Tanque 1: {tanque1}\n",
    "    Tanque 2: {tanque2}\n",
    "    Tanque 3: {tanque3}\n",
    "    \"\"\"\n",
    "\n",
    "reporteTanquesCombustibleActual(10,10,10)"
   ]
  },
  {
   "cell_type": "markdown",
   "metadata": {},
   "source": [
    "## Ejercicio 2"
   ]
  },
  {
   "cell_type": "code",
   "execution_count": 25,
   "metadata": {},
   "outputs": [
    {
     "name": "stdout",
     "output_type": "stream",
     "text": [
      " Mision hacia Mars:\n",
      "    Tiempo de vuelo : 35 minutos:\n",
      "    Combustible : 11000 litros\n",
      "    Der tanque -->5000Izq tanque -->6000\n"
     ]
    }
   ],
   "source": [
    "def reportePrelanzamiento(prelanzamiento, tiempodeVuelo, destino,tanqueInterno,tanqueExterno): \n",
    "    \n",
    "    return f\"\"\" Mision hacia {destino}:\n",
    "    Tiempo de vuelo : {prelanzamiento+tiempodeVuelo} minutos:\n",
    "    Combustible : {tanqueInterno+tanqueExterno} litros\n",
    "    \"\"\"\n",
    "\n",
    "\n",
    "\n",
    "def reportePrelanzamiento2(destino, *tiempo,**tanques): \n",
    "    \n",
    "    return f\"\"\" Mision hacia {destino}:\n",
    "    Tiempo de vuelo : {sum(tiempo)} minutos:\n",
    "    Combustible : {sum(tanques.values())} litros\n",
    "    \"\"\"\n",
    "\n",
    "\n",
    "def reportePrelanzamiento2(destino, *tiempo,**tanques): \n",
    "    \n",
    "    Reporte =f\"\"\" Mision hacia {destino}:\n",
    "    Tiempo de vuelo : {sum(tiempo)} minutos:\n",
    "    Combustible : {sum(tanques.values())} litros\n",
    "    \"\"\"\n",
    "    for tanque,litros in tanques.items():\n",
    "        Reporte += f\"{tanque} tanque -->{litros}\"\n",
    "    return Reporte    \n",
    "\n",
    "print(reportePrelanzamiento2(\"Mars\",20,10,5,Der=5000,Izq=6000))\n",
    "\n"
   ]
  }
 ],
 "metadata": {
  "interpreter": {
   "hash": "cfcfbbd76e88e95dc35e2ca9edf0c1e882d0553cc29bc4cac8c0f4eabeb0ecb9"
  },
  "kernelspec": {
   "display_name": "Python 3.10.2 64-bit",
   "language": "python",
   "name": "python3"
  },
  "language_info": {
   "codemirror_mode": {
    "name": "ipython",
    "version": 3
   },
   "file_extension": ".py",
   "mimetype": "text/x-python",
   "name": "python",
   "nbconvert_exporter": "python",
   "pygments_lexer": "ipython3",
   "version": "3.10.2"
  },
  "orig_nbformat": 4
 },
 "nbformat": 4,
 "nbformat_minor": 2
}
