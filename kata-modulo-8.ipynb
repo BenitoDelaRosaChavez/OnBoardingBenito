{
 "cells": [
  {
   "cell_type": "markdown",
   "metadata": {},
   "source": [
    "## Ejercicio 1"
   ]
  },
  {
   "cell_type": "code",
   "execution_count": 22,
   "metadata": {},
   "outputs": [
    {
     "name": "stdout",
     "output_type": "stream",
     "text": [
      "Mars\n",
      "2\n",
      "Mars polar diameter: 6752\n"
     ]
    }
   ],
   "source": [
    "##demo = {\n",
    "##  'key': 'value',\n",
    "##    'number': 42\n",
    "##}\n",
    "\n",
    "planet={\n",
    "    'name':'Mars',\n",
    "    'moons': 2\n",
    "}\n",
    "print(planet.get('name'))\n",
    "print(planet.get('moons'))\n",
    "\n",
    "planet['Circunferencia KM']={\n",
    "    'polar' : 6752,\n",
    "    'equatorial' :6792\n",
    "}\n",
    "\n",
    "print(f'{planet[\"name\"]} polar diameter: {planet[\"Circunferencia KM\"][\"polar\"]}')"
   ]
  },
  {
   "cell_type": "markdown",
   "metadata": {},
   "source": [
    "## Ejercicio 2"
   ]
  },
  {
   "cell_type": "code",
   "execution_count": 28,
   "metadata": {},
   "outputs": [
    {
     "name": "stdout",
     "output_type": "stream",
     "text": [
      "17.833333333333332\n"
     ]
    }
   ],
   "source": [
    "planetMoons={\n",
    "    'Mercury' : 0,\n",
    "    'venus' : 0,\n",
    "    'earth' : 1,\n",
    "    'mars' : 2,\n",
    "    'jupiter' : 79,\n",
    "    'saturn' : 82,\n",
    "    'uranus' : 27,\n",
    "    'neptune' : 14,\n",
    "    'pluto' : 5,\n",
    "    'haumea' : 2,\n",
    "    'makemake' : 1,\n",
    "    'eris' : 1\n",
    "}\n",
    "\n",
    "moons = planetMoons.values()\n",
    "planets = len(planetMoons.keys()) \n",
    "\n",
    "totalMoons=0\n",
    "\n",
    "for moon in moons:\n",
    "    totalMoons = totalMoons + moon\n",
    "\n",
    "average = totalMoons / planets\n",
    "\n",
    "print(average)"
   ]
  }
 ],
 "metadata": {
  "interpreter": {
   "hash": "cfcfbbd76e88e95dc35e2ca9edf0c1e882d0553cc29bc4cac8c0f4eabeb0ecb9"
  },
  "kernelspec": {
   "display_name": "Python 3.10.2 64-bit",
   "language": "python",
   "name": "python3"
  },
  "language_info": {
   "codemirror_mode": {
    "name": "ipython",
    "version": 3
   },
   "file_extension": ".py",
   "mimetype": "text/x-python",
   "name": "python",
   "nbconvert_exporter": "python",
   "pygments_lexer": "ipython3",
   "version": "3.10.2"
  },
  "orig_nbformat": 4
 },
 "nbformat": 4,
 "nbformat_minor": 2
}
