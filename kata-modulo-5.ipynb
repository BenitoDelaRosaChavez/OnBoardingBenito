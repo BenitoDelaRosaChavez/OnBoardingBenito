{
 "cells": [
  {
   "cell_type": "code",
   "execution_count": 22,
   "metadata": {},
   "outputs": [
    {
     "name": "stdout",
     "output_type": "stream",
     "text": [
      "628949330\n",
      "390810874.13143003\n"
     ]
    }
   ],
   "source": [
    "primerPlaneta= 149597870\n",
    "segundoPlaneta=778547200\n",
    "millas = 0.621371\n",
    "\n",
    "distanciaEntrePlanetas = abs(primerPlaneta - segundoPlaneta)\n",
    "distanciaEntrePlanetasEnMillas = distanciaEntrePlanetas * millas\n",
    "print(distanciaEntrePlanetas)\n",
    "print(distanciaEntrePlanetasEnMillas)"
   ]
  },
  {
   "cell_type": "code",
   "execution_count": 28,
   "metadata": {},
   "outputs": [
    {
     "name": "stdout",
     "output_type": "stream",
     "text": [
      "Ingresa la distancia al sol del primer planeta\n",
      "478\n",
      "Ingresa la distancia al sol del segundo planeta\n",
      "69\n",
      "409\n",
      "254.140739\n"
     ]
    }
   ],
   "source": [
    "print(\"Ingresa la distancia al sol del primer planeta\")\n",
    "primerPlaneta = int(input())\n",
    "print(primerPlaneta)\n",
    "print(\"Ingresa la distancia al sol del segundo planeta\")\n",
    "segundoPlaneta = int(input())\n",
    "print(segundoPlaneta)\n",
    "distanciaEntrePlanetas =  abs(primerPlaneta - segundoPlaneta)\n",
    "print(distanciaEntrePlanetas)\n",
    "distanciaEntrePlanetasEnMillas = distanciaEntrePlanetas * millas\n",
    "print(distanciaEntrePlanetasEnMillas)"
   ]
  }
 ],
 "metadata": {
  "interpreter": {
   "hash": "cfcfbbd76e88e95dc35e2ca9edf0c1e882d0553cc29bc4cac8c0f4eabeb0ecb9"
  },
  "kernelspec": {
   "display_name": "Python 3.10.2 64-bit",
   "language": "python",
   "name": "python3"
  },
  "language_info": {
   "codemirror_mode": {
    "name": "ipython",
    "version": 3
   },
   "file_extension": ".py",
   "mimetype": "text/x-python",
   "name": "python",
   "nbconvert_exporter": "python",
   "pygments_lexer": "ipython3",
   "version": "3.10.2"
  },
  "orig_nbformat": 4
 },
 "nbformat": 4,
 "nbformat_minor": 2
}
